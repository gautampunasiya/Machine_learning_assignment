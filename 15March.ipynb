{
 "cells": [
  {
   "cell_type": "markdown",
   "id": "0eca6c2d-57f0-40e9-b71b-3630c8da7c74",
   "metadata": {},
   "source": [
    "Explain the following with an example\n",
    "\n",
    "1) Artificial Intelligence \n",
    "\n",
    "2) Machine Learning\n",
    "\n",
    "3) Deep Learning"
   ]
  },
  {
   "cell_type": "markdown",
   "id": "21c3ca45-6ed8-40d1-b095-1af04132471a",
   "metadata": {},
   "source": [
    "Artificial Intelligence refers to the development of computer systems that can perform tasks that would typically require human intelligence. It involves the creation of intelligent machines capable of perceiving, understanding, reasoning, and learning. Examples Chatbots,performing specific tasks, such as voice recognition or image classification"
   ]
  },
  {
   "cell_type": "markdown",
   "id": "eeb4aa79-90b8-432d-9df1-f194e30f50db",
   "metadata": {},
   "source": [
    "Machine Learning (ML):\n",
    "Machine Learning is a subset of AI that focuses on algorithms and statistical models that enable computers to learn and improve from experience without being explicitly programmed. Instead of relying on predefined rules, ML systems learn patterns and make predictions or decisions based on data. The goal is to allow machines to automatically learn and adapt from examples or past experiences to improve their performance on specific tasks.\n",
    "Example: Spam email filtering is a common example of machine learning. "
   ]
  },
  {
   "cell_type": "markdown",
   "id": "ff54145e-716a-47ca-b2b4-ee13a7f9e44b",
   "metadata": {},
   "source": [
    "Deep Learning:\n",
    "Deep Learning is a subfield of machine learning that focuses on artificial neural networks inspired by the structure and function of the human brain. Deep learning models consist of interconnected layers of artificial neurons, known as artificial neural networks (ANNs). These networks can automatically learn hierarchical representations of data, enabling them to extract complex patterns and features from raw input.\n",
    "Example: Image recognition is an area where deep learning excels"
   ]
  },
  {
   "cell_type": "markdown",
   "id": "9cedfeb8-fd68-47d4-9397-28c695422a5d",
   "metadata": {},
   "source": [
    "Q2- What is supervised learning? List some examples of supervised learning"
   ]
  },
  {
   "cell_type": "markdown",
   "id": "d29a68da-3f95-446f-8919-97fc39b6eae1",
   "metadata": {},
   "source": [
    "Supervised learning is a type of machine learning where an algorithm learns from labeled training data to make predictions or decisions. In supervised learning, the algorithm is provided with input data along with corresponding target labels or outputs. The algorithm learns to map the input data to the correct output by finding patterns and relationships in the labeled examples.\n",
    "\n",
    "Examples Linear Regression: This algorithm is used for regression tasks where the goal is to predict a continuous numeric value.\n",
    "Logistic Regression\n",
    "Decision Trees"
   ]
  },
  {
   "cell_type": "markdown",
   "id": "0a52dfec-0852-4286-ac6d-61b8628987e5",
   "metadata": {},
   "source": [
    "Q3- What is unsupervised learning? List some examples of unsupervised learning."
   ]
  },
  {
   "cell_type": "markdown",
   "id": "dcf1f550-f1f7-4955-b371-19755f35b10f",
   "metadata": {},
   "source": [
    "Unsupervised learning is a type of machine learning where the algorithm learns patterns and relationships in data without being provided with explicit target labels or outputs. Unlike supervised learning, the algorithm does not have access to labeled training data. Instead, it explores the structure of the data and identifies inherent patterns, similarities, or groupings.\n",
    "Examples of unsupervised learning algorithms:\n",
    "\n",
    "Clustering:\n",
    "Clustering algorithms aim to group similar data points together based on their inherent characteristics or similarities\n"
   ]
  },
  {
   "cell_type": "markdown",
   "id": "22654fe0-4025-4775-9cb2-78b605661a7b",
   "metadata": {},
   "source": [
    "Q4- What is the diffKrence between AI, ML, DL, and DS?"
   ]
  },
  {
   "cell_type": "markdown",
   "id": "c83b051f-b368-466d-9f8f-15fcfc7ef7ad",
   "metadata": {},
   "source": [
    "AI is the broad field concerned with creating intelligent machines, ML is a subset of AI that focuses on algorithms for learning from data, DL is a subset of ML that specifically uses artificial neural networks for deep learning, and DS is a multidisciplinary field that encompasses the entire data analysis process, including data collection, cleaning, analysis, and interpretation."
   ]
  },
  {
   "cell_type": "markdown",
   "id": "1a85793b-bf8c-4f45-a180-4bc40899c6bf",
   "metadata": {},
   "source": [
    "Q5- What are the main differences between supervised, unsupervised, and semi-supervisKd learning?"
   ]
  },
  {
   "cell_type": "markdown",
   "id": "fa9ad3a9-296e-4a7a-8c92-09d682a69a67",
   "metadata": {},
   "source": [
    "supervised learning relies on labeled data and aims to make predictions or classifications, unsupervised learning works with unlabeled data to discover patterns or structures, and semi-supervised learning utilizes a combination of labeled and unlabeled data to improve learning performance."
   ]
  },
  {
   "cell_type": "markdown",
   "id": "7e69e03a-a681-42e7-a755-35637475f1d4",
   "metadata": {},
   "source": [
    "Q6- What is train, test and validation split? Explain the importance of each term."
   ]
  },
  {
   "cell_type": "markdown",
   "id": "a545a013-910e-46a2-be83-93e79971fdbf",
   "metadata": {},
   "source": [
    "Q7- How can unsupKrvisKd lKarnin* bK usKd in anomaly dKtKction?Training Set:\n",
    "The training set is the portion of the dataset that is used to train the machine learning model. It contains labeled examples, where both the input data and their corresponding target labels or outputs are provided.\n",
    "Importance: The training set is crucial for the model to learn patterns, relationships, and features in the data\n",
    "\n",
    "Test Set:\n",
    "The test set is a separate subset of the dataset that is used to evaluate the performance of the trained machine learning model. It consists of new, unseen data instances that were not used during training. \n",
    "Importance: The test set provides an unbiased evaluation of the model's performance on unseen data. It helps assess how well the model generalizes to new examples and gives an estimate of its real-world performance.\n",
    "\n",
    "Validation Set:\n",
    "The validation set is an optional subset of the dataset used for model selection and hyperparameter tuning. It is typically used when optimizing the model's performance by adjusting various parameters or configurations\n",
    "Importance: The validation set allows for fine-tuning the model's hyperparameters, such as learning rate, regularization strength, or network architecture, to optimize its performance."
   ]
  },
  {
   "cell_type": "markdown",
   "id": "e09ebe3e-278f-44d1-a86a-0619ad22716e",
   "metadata": {},
   "source": [
    "Q7- How can unsupervised learning be used in anomaly detection?"
   ]
  },
  {
   "cell_type": "markdown",
   "id": "2e5aa831-0ffc-461b-8c03-aba9e0de08eb",
   "metadata": {},
   "source": [
    "Unsupervised learning can be effectively used in anomaly detection tasks. Anomaly detection refers to the identification of unusual or rare instances in a dataset that deviate significantly from the norm or expected patterns. Here's how unsupervised learning can be utilized for anomaly detection:\n",
    "\n",
    "Modeling Normal Behavior:\n",
    "      unsupervised anomaly detection, the algorithm first learns the patterns and structures of the normal or non-anomalous data.\n",
    "Unsupervised Learning Algorithms:\n",
    "An important aspect of unsupervised anomaly detection is the evaluation and validation of the detected anomalies"
   ]
  },
  {
   "cell_type": "markdown",
   "id": "c55c0702-3d52-45e0-9b4b-b52f5c805e83",
   "metadata": {},
   "source": [
    "Here are some commonly used supervised and unsupervised learning algorithms:\n",
    "\n",
    "Supervised Learning Algorithms:\n",
    "\n",
    "1 Linear Regression\n",
    "2 Logistic Regression\n",
    "3 Decision Trees\n",
    "4 Random Forest\n",
    "5 Support Vector Machines (SVM)\n",
    "6 Naive Bayes\n",
    "\n",
    "\n",
    "\n",
    "Unsupervised Learning Algorithms:\n",
    "\n",
    "1 K-means Clustering\n",
    "2 Hierarchical Clustering\n",
    "3 DBSCAN (Density-Based Spatial Clustering of Applications with Noise)\n",
    "4 Gaussian Mixture Models (GMM)\n",
    "5 Principal Component Analysis (PCA)"
   ]
  },
  {
   "cell_type": "code",
   "execution_count": null,
   "id": "b03fd4c1-d945-4fb1-9943-1e4673ba3084",
   "metadata": {},
   "outputs": [],
   "source": []
  }
 ],
 "metadata": {
  "kernelspec": {
   "display_name": "Python 3 (ipykernel)",
   "language": "python",
   "name": "python3"
  },
  "language_info": {
   "codemirror_mode": {
    "name": "ipython",
    "version": 3
   },
   "file_extension": ".py",
   "mimetype": "text/x-python",
   "name": "python",
   "nbconvert_exporter": "python",
   "pygments_lexer": "ipython3",
   "version": "3.10.8"
  }
 },
 "nbformat": 4,
 "nbformat_minor": 5
}
